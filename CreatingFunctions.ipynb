{
 "cells": [
  {
   "cell_type": "markdown",
   "metadata": {},
   "source": [
    "# Creating Functions"
   ]
  },
  {
   "cell_type": "markdown",
   "metadata": {},
   "source": [
    "Now that we got our [introduction to functions](Introduction2Functions.ipynb), we can learn to <ins>**create our own functions**</ins>."
   ]
  },
  {
   "cell_type": "markdown",
   "metadata": {},
   "source": [
    "<img src=\"https://inventyourshit.com/wp-content/uploads/2020/11/4lirk9.jpg\" width = '400'>"
   ]
  },
  {
   "cell_type": "markdown",
   "metadata": {},
   "source": [
    "By the end of this section, you will learn:\n",
    "* [**to create a function**](#Basic-format)"
   ]
  },
  {
   "cell_type": "markdown",
   "metadata": {},
   "source": [
    "## Basic format"
   ]
  },
  {
   "cell_type": "markdown",
   "metadata": {},
   "source": [
    "There is a basic format to follow when creating your function:\n",
    "\n",
    "```python\n",
    "def myfunction(args,kwargs=defaultvalue) :\n",
    "    output = (do something w/ args)\n",
    "    return output\n",
    "```\n",
    "\n",
    "You will need to define **```kwargs```** within your function or else it will return an error:"
   ]
  },
  {
   "cell_type": "code",
   "execution_count": null,
   "metadata": {},
   "outputs": [],
   "source": [
    "# import the numpy package! We will use the prefix np\n",
    "import numpy as np\n",
    "\n",
    "# define a function that takes two arguments:\n",
    "# arg1 and arg2\n",
    "# and one keyword argument:\n",
    "# kwarg=1\n",
    "def myfunction(arg1,arg2):\n",
    "\n",
    "    # Divide arg1 by arg2, and scale the result by kwarg\n",
    "    output = (arg1/arg2)*kwarg\n",
    "\n",
    "    # print the answer, and round the result to two decimal places\n",
    "    print(\"answer is: \"+str(np.round(output,2)))\n",
    "\n",
    "    # Return our final value!!\n",
    "    return output\n",
    "\n",
    "# Call the function, and assign the output to variable \"newvar\"\n",
    "newvar = myfunction(1e7,1e6)"
   ]
  },
  {
   "cell_type": "markdown",
   "metadata": {},
   "source": [
    "Here is an example of the corrected function:"
   ]
  },
  {
   "cell_type": "code",
   "execution_count": null,
   "metadata": {},
   "outputs": [],
   "source": [
    "# import the numpy package! We will use the prefix np\n",
    "import numpy as np\n",
    "\n",
    "# define a function that takes two arguments:\n",
    "# arg1 and arg2\n",
    "# and one keyword argument:\n",
    "# kwarg=1\n",
    "def myfunction(arg1,arg2,kwarg=1):\n",
    "\n",
    "    # Divide arg1 by arg2, and scale the result by kwarg\n",
    "    output = (arg1/arg2)*kwarg\n",
    "\n",
    "    # print the answer, and round the result to two decimal places\n",
    "    print(\"answer is: \"+str(np.round(output,2)))\n",
    "\n",
    "    # Return our final value!!\n",
    "    return output\n",
    "\n",
    "# Call the function, and assign the output to variable \"newvar\"\n",
    "newvar = myfunction(1e7,1e6)"
   ]
  },
  {
   "cell_type": "markdown",
   "metadata": {},
   "source": [
    "## Exercises"
   ]
  },
  {
   "cell_type": "markdown",
   "metadata": {},
   "source": [
    "1. Create a function that <ins>**takes an array and a number as arguments**</ins>, <ins>**multiples them by each other and the number 2**</ins>, and then returns the product."
   ]
  },
  {
   "cell_type": "code",
   "execution_count": 3,
   "metadata": {},
   "outputs": [
    {
     "name": "stdout",
     "output_type": "stream",
     "text": [
      "[ 4  8 12 16 20]\n"
     ]
    }
   ],
   "source": [
    "# insert code here\n",
    "\n",
    "import numpy as np\n",
    "\n",
    "def fun1(arr1, num1):\n",
    "    prod = arr1 * num1 * 2\n",
    "    \n",
    "    return prod\n",
    "\n",
    "tarr1 = np.array([1, 2, 3, 4, 5])\n",
    "\n",
    "ans1 = fun1(tarr1, 2)\n",
    "print(ans1)"
   ]
  },
  {
   "cell_type": "markdown",
   "metadata": {},
   "source": [
    "2. **Alter your code from 1** to make it so the user can change the number 2 to whatever value they want."
   ]
  },
  {
   "cell_type": "code",
   "execution_count": 8,
   "metadata": {},
   "outputs": [
    {
     "name": "stdout",
     "output_type": "stream",
     "text": [
      "[5. 4. 3. 2. 1.]\n"
     ]
    }
   ],
   "source": [
    "# insert code here\n",
    "\n",
    "def fun2(arr1, num1, scale = 2):\n",
    "    prod = arr1 * num1 * scale\n",
    "    \n",
    "    return prod\n",
    "\n",
    "tarr2 = np.array([5, 4, 3, 2, 1])\n",
    "\n",
    "ans2 = fun2(tarr2, 2, scale = 0.5)\n",
    "print(ans2)"
   ]
  },
  {
   "cell_type": "markdown",
   "metadata": {},
   "source": [
    "3. Create a function which <ins>**loops through an array**</ins> and <ins>**adds the previous number**</ins>. Print \"Finished!!\" when the loop is done."
   ]
  },
  {
   "cell_type": "code",
   "execution_count": 10,
   "metadata": {},
   "outputs": [
    {
     "name": "stdout",
     "output_type": "stream",
     "text": [
      "[5, 13, 25, 41]\n",
      "[2, 6, 12, 20, 30]\n"
     ]
    }
   ],
   "source": [
    "# insert code here\n",
    "\n",
    "def fun3(arr):\n",
    "    \n",
    "    output = []\n",
    "    \n",
    "    for i in range(1, len(arr)):\n",
    "        output.append(arr[i] + arr[i-1])\n",
    "        \n",
    "    return output\n",
    "        \n",
    "\n",
    "tarr3 = np.array([1, 4, 9, 16, 25])\n",
    "\n",
    "ans3 = fun3(tarr3)\n",
    "print(ans3)\n",
    "\n",
    "def fun4(arr):\n",
    "    \n",
    "    output = [arr[0]]\n",
    "    \n",
    "    for i in range(1, len(arr)):\n",
    "        output.append(arr[i] + output[i-1])\n",
    "        \n",
    "    return output\n",
    "\n",
    "tarr4 = np.array([2, 4, 6, 8, 10])\n",
    "\n",
    "ans4 = fun4(tarr4)\n",
    "print(ans4)\n",
    "\n"
   ]
  },
  {
   "cell_type": "code",
   "execution_count": null,
   "metadata": {},
   "outputs": [],
   "source": []
  }
 ],
 "metadata": {
  "kernelspec": {
   "display_name": "Python 3 (ipykernel)",
   "language": "python",
   "name": "python3"
  },
  "language_info": {
   "codemirror_mode": {
    "name": "ipython",
    "version": 3
   },
   "file_extension": ".py",
   "mimetype": "text/x-python",
   "name": "python",
   "nbconvert_exporter": "python",
   "pygments_lexer": "ipython3",
   "version": "3.8.10"
  }
 },
 "nbformat": 4,
 "nbformat_minor": 5
}
