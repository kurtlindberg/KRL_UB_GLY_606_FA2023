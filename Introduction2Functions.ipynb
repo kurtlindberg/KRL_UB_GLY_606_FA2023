{
 "cells": [
  {
   "cell_type": "markdown",
   "metadata": {},
   "source": [
    "# Introduction to Functions"
   ]
  },
  {
   "cell_type": "markdown",
   "metadata": {},
   "source": [
    "**Functions** are very helpful in code. You can <ins>**avoid typing the same formula over and over again, apply them to multiple datasets, and minimize errors**</ins>. Since there is a lot of go over, we are splitting this section into two separate notebooks: **[an introduction](Introduction2Functions.ipynb)** and **[creating your own functions](CreatingFunctions.ipynb)**."
   ]
  },
  {
   "cell_type": "markdown",
   "metadata": {},
   "source": [
    "<img src=\"https://benjdd.com/assets/memes/teach-functions.jpg\" width = '400'>"
   ]
  },
  {
   "cell_type": "markdown",
   "metadata": {},
   "source": [
    "By the end of this section, you will learn:\n",
    "* [**to call functions**](#How-to-call-functions)\n",
    "* [**built-in Python functions**](#Built-in-Python-functions)\n",
    "* [**NumPy functions**](#NumPy-functions)"
   ]
  },
  {
   "cell_type": "markdown",
   "metadata": {},
   "source": [
    "## How to call functions"
   ]
  },
  {
   "cell_type": "markdown",
   "metadata": {},
   "source": [
    "Before we dive into some of the functions within Python and NumPy, we're going to learn how to **call them**. To **call a function**, you can follow this basic format:\n",
    "\n",
    "```python\n",
    "newvar = function(args, kwarsg=kwargs)\n",
    "```\n",
    "\n",
    "where\n",
    "\n",
    "**```newvar```** is the **<ins>new variable</ins>** that will be assigned with the **<ins>results of the function</ins>**\n",
    "\n",
    "**```args```** is the **<ins>arguments (aka data entered)</ins>**\n",
    "\n",
    "**```kwargs```** is the **<ins>keyword arguments</ins>** (which are not necessary)\n",
    "\n",
    "An example is:"
   ]
  },
  {
   "cell_type": "code",
   "execution_count": 1,
   "metadata": {},
   "outputs": [
    {
     "name": "stdout",
     "output_type": "stream",
     "text": [
      "2\n"
     ]
    }
   ],
   "source": [
    "import numpy as np\n",
    "\n",
    "# use the array() function from numPy to create an array\n",
    "mydata = np.array([2, 4, 6, 8])\n",
    "\n",
    "# using the min() function from numPy to find the min of my data\n",
    "min = np.min(mydata)\n",
    "print(min)"
   ]
  },
  {
   "cell_type": "markdown",
   "metadata": {},
   "source": [
    "## Built-in Python functions"
   ]
  },
  {
   "cell_type": "markdown",
   "metadata": {},
   "source": [
    "Within Python there are some built-in functions (meaning you <ins>**_do not need to import_**</ins> any library packages). Some examples include:\n",
    "\n",
    "|Function|Description|Arguments|\n",
    "|-|-|-:|\n",
    "|```help()```|start the help system|```help(function name)```|\n",
    "|```open()```|open a file|```open(filename.txt)```|\n",
    "|```print()```|return a value|```print(value desired)```|\n",
    "\n",
    "You can learn more about built-in Python functions [here](https://docs.python.org/3/library/functions.html)."
   ]
  },
  {
   "cell_type": "markdown",
   "metadata": {},
   "source": [
    "## NumPy functions"
   ]
  },
  {
   "cell_type": "markdown",
   "metadata": {},
   "source": [
    "[NumPy](https://numpy.org/doc/stable/user/absolute_beginners.html) (aka numerical Python) is an <ins>*open source library*</ins> that is <ins>**used to work with numerical data**</ins>, <ins>**perform a large selection of mathematical operations on arrays**</ins>, and more. \n",
    "\n",
    "\n",
    "If you have Python already downloaded, you can install **NumPy** with the following command in your terminal:\n",
    "\n",
    "**```conda install numpy```**\n",
    "\n",
    "or\n",
    "\n",
    "**```pip install numpy```**\n"
   ]
  },
  {
   "cell_type": "markdown",
   "metadata": {},
   "source": [
    "To use functions from **NumPy**, you must type the following:\n",
    "\n",
    "```python\n",
    "import numpy\n",
    "```\n",
    "\n",
    "It is suggested to <ins>**abbreviate NumPy**</ins>, such as:\n",
    "\n",
    "```python\n",
    "import numpy as np\n",
    "```\n",
    "\n",
    "There are lots of [functions](https://numpy.org/doc/stable/reference/) within **NumPy**, but here are some commonly used ones:\n",
    "\n",
    "|Function|Description|Arguments|\n",
    "|-|-|-|\n",
    "|```array()```|creates an array|```array([numbers])```|\n",
    "|```arange()```|creates evenly spaced values within a given interval|```arange([startvalue,stopvalue,spacing])```|\n",
    "|```linspace()```|creates evenly spaced numbers over specified interval|```linspace(startvalue,stopvalue,numberofvalues])```|"
   ]
  },
  {
   "cell_type": "code",
   "execution_count": 2,
   "metadata": {},
   "outputs": [
    {
     "name": "stdout",
     "output_type": "stream",
     "text": [
      "1.0\n"
     ]
    }
   ],
   "source": [
    "# Finding the sine of 30 using NumPy\n",
    "# First we import NumPy\n",
    "import numpy as np\n",
    "\n",
    "# For trig functions in NumPy, the angle is in radians\n",
    "# We need numPy to use pi\n",
    "x = np.sin(np.pi/2)\n",
    "print(x)"
   ]
  },
  {
   "cell_type": "markdown",
   "metadata": {},
   "source": [
    "An example of using a **NumPy** function on arrays is:"
   ]
  },
  {
   "cell_type": "code",
   "execution_count": 18,
   "metadata": {},
   "outputs": [
    {
     "name": "stdout",
     "output_type": "stream",
     "text": [
      "20\n"
     ]
    }
   ],
   "source": [
    "# Add the elements of an array using NumPy\n",
    "import numpy as np\n",
    "\n",
    "# My array\n",
    "a = np.array([2, 4, 6, 8])\n",
    "\n",
    "# Now add up all elements\n",
    "sum = np.sum(a)\n",
    "print(sum)"
   ]
  },
  {
   "cell_type": "markdown",
   "metadata": {},
   "source": [
    "We can also use **NumPy** functions to find the max of an array:"
   ]
  },
  {
   "cell_type": "code",
   "execution_count": 19,
   "metadata": {},
   "outputs": [
    {
     "name": "stdout",
     "output_type": "stream",
     "text": [
      "8\n"
     ]
    }
   ],
   "source": [
    "# Finding max of my array\n",
    "import numpy as np\n",
    "\n",
    "# My array\n",
    "a = np.array([2, 4, 6, 8])\n",
    "\n",
    "# Now add up all elements\n",
    "max = np.max(a)\n",
    "print(max)"
   ]
  },
  {
   "cell_type": "markdown",
   "metadata": {},
   "source": [
    "## Summary"
   ]
  },
  {
   "cell_type": "markdown",
   "metadata": {},
   "source": [
    "* To **[call a function](#How-to-call-functions)** (aka apply a function), **create a new variable** to store results and input arguments within parentheses of function\n",
    "\n",
    "\n",
    "\n",
    "* To look up the **[arguments of a function](#Built-in-Python-functions)**, you can use the built-in Python **```help()```** function\n",
    "\n",
    "\n",
    "\n",
    "* **[NumPy](#NumPy-functions)** is a **numerical Python library** which allows you to create arrays, use complicated math equations, etc."
   ]
  },
  {
   "cell_type": "markdown",
   "metadata": {},
   "source": [
    "## Exercise"
   ]
  },
  {
   "cell_type": "markdown",
   "metadata": {},
   "source": [
    "1. Using the **```help()``` function**, find what the following NumPy functions do:\n",
    "\n",
    "    ```std()```\n",
    "\n",
    "    ```shape()```\n",
    "\n",
    "    ```sort()```"
   ]
  },
  {
   "cell_type": "code",
   "execution_count": 2,
   "metadata": {
    "scrolled": true
   },
   "outputs": [
    {
     "name": "stdout",
     "output_type": "stream",
     "text": [
      "Help on function std in module numpy:\n",
      "\n",
      "std(a, axis=None, dtype=None, out=None, ddof=0, keepdims=<no value>, *, where=<no value>)\n",
      "    Compute the standard deviation along the specified axis.\n",
      "    \n",
      "    Returns the standard deviation, a measure of the spread of a distribution,\n",
      "    of the array elements. The standard deviation is computed for the\n",
      "    flattened array by default, otherwise over the specified axis.\n",
      "    \n",
      "    Parameters\n",
      "    ----------\n",
      "    a : array_like\n",
      "        Calculate the standard deviation of these values.\n",
      "    axis : None or int or tuple of ints, optional\n",
      "        Axis or axes along which the standard deviation is computed. The\n",
      "        default is to compute the standard deviation of the flattened array.\n",
      "    \n",
      "        .. versionadded:: 1.7.0\n",
      "    \n",
      "        If this is a tuple of ints, a standard deviation is performed over\n",
      "        multiple axes, instead of a single axis or all the axes as before.\n",
      "    dtype : dtype, optional\n",
      "        Type to use in computing the standard deviation. For arrays of\n",
      "        integer type the default is float64, for arrays of float types it is\n",
      "        the same as the array type.\n",
      "    out : ndarray, optional\n",
      "        Alternative output array in which to place the result. It must have\n",
      "        the same shape as the expected output but the type (of the calculated\n",
      "        values) will be cast if necessary.\n",
      "    ddof : int, optional\n",
      "        Means Delta Degrees of Freedom.  The divisor used in calculations\n",
      "        is ``N - ddof``, where ``N`` represents the number of elements.\n",
      "        By default `ddof` is zero.\n",
      "    keepdims : bool, optional\n",
      "        If this is set to True, the axes which are reduced are left\n",
      "        in the result as dimensions with size one. With this option,\n",
      "        the result will broadcast correctly against the input array.\n",
      "    \n",
      "        If the default value is passed, then `keepdims` will not be\n",
      "        passed through to the `std` method of sub-classes of\n",
      "        `ndarray`, however any non-default value will be.  If the\n",
      "        sub-class' method does not implement `keepdims` any\n",
      "        exceptions will be raised.\n",
      "    \n",
      "    where : array_like of bool, optional\n",
      "        Elements to include in the standard deviation.\n",
      "        See `~numpy.ufunc.reduce` for details.\n",
      "    \n",
      "        .. versionadded:: 1.20.0\n",
      "    \n",
      "    Returns\n",
      "    -------\n",
      "    standard_deviation : ndarray, see dtype parameter above.\n",
      "        If `out` is None, return a new array containing the standard deviation,\n",
      "        otherwise return a reference to the output array.\n",
      "    \n",
      "    See Also\n",
      "    --------\n",
      "    var, mean, nanmean, nanstd, nanvar\n",
      "    :ref:`ufuncs-output-type`\n",
      "    \n",
      "    Notes\n",
      "    -----\n",
      "    The standard deviation is the square root of the average of the squared\n",
      "    deviations from the mean, i.e., ``std = sqrt(mean(x))``, where\n",
      "    ``x = abs(a - a.mean())**2``.\n",
      "    \n",
      "    The average squared deviation is typically calculated as ``x.sum() / N``,\n",
      "    where ``N = len(x)``. If, however, `ddof` is specified, the divisor\n",
      "    ``N - ddof`` is used instead. In standard statistical practice, ``ddof=1``\n",
      "    provides an unbiased estimator of the variance of the infinite population.\n",
      "    ``ddof=0`` provides a maximum likelihood estimate of the variance for\n",
      "    normally distributed variables. The standard deviation computed in this\n",
      "    function is the square root of the estimated variance, so even with\n",
      "    ``ddof=1``, it will not be an unbiased estimate of the standard deviation\n",
      "    per se.\n",
      "    \n",
      "    Note that, for complex numbers, `std` takes the absolute\n",
      "    value before squaring, so that the result is always real and nonnegative.\n",
      "    \n",
      "    For floating-point input, the *std* is computed using the same\n",
      "    precision the input has. Depending on the input data, this can cause\n",
      "    the results to be inaccurate, especially for float32 (see example below).\n",
      "    Specifying a higher-accuracy accumulator using the `dtype` keyword can\n",
      "    alleviate this issue.\n",
      "    \n",
      "    Examples\n",
      "    --------\n",
      "    >>> a = np.array([[1, 2], [3, 4]])\n",
      "    >>> np.std(a)\n",
      "    1.1180339887498949 # may vary\n",
      "    >>> np.std(a, axis=0)\n",
      "    array([1.,  1.])\n",
      "    >>> np.std(a, axis=1)\n",
      "    array([0.5,  0.5])\n",
      "    \n",
      "    In single precision, std() can be inaccurate:\n",
      "    \n",
      "    >>> a = np.zeros((2, 512*512), dtype=np.float32)\n",
      "    >>> a[0, :] = 1.0\n",
      "    >>> a[1, :] = 0.1\n",
      "    >>> np.std(a)\n",
      "    0.45000005\n",
      "    \n",
      "    Computing the standard deviation in float64 is more accurate:\n",
      "    \n",
      "    >>> np.std(a, dtype=np.float64)\n",
      "    0.44999999925494177 # may vary\n",
      "    \n",
      "    Specifying a where argument:\n",
      "    \n",
      "    >>> a = np.array([[14, 8, 11, 10], [7, 9, 10, 11], [10, 15, 5, 10]])\n",
      "    >>> np.std(a)\n",
      "    2.614064523559687 # may vary\n",
      "    >>> np.std(a, where=[[True], [True], [False]])\n",
      "    2.0\n",
      "\n"
     ]
    }
   ],
   "source": [
    "# Use this for 1\n",
    "\n",
    "import numpy as np\n",
    "\n",
    "help(np.std)"
   ]
  },
  {
   "cell_type": "markdown",
   "metadata": {},
   "source": [
    "2. Use the **```degrees()``` function** from **NumPy** to convert **```pi/6```** to degrees. (<ins>*Hint: you can use the ```help()``` function to look up the input arguments*</ins>)"
   ]
  },
  {
   "cell_type": "code",
   "execution_count": 4,
   "metadata": {},
   "outputs": [
    {
     "name": "stdout",
     "output_type": "stream",
     "text": [
      "29.999999999999996\n",
      "30.0\n"
     ]
    }
   ],
   "source": [
    "# insert code here\n",
    "\n",
    "import math\n",
    "\n",
    "angle = (math.pi)/6\n",
    "\n",
    "angle_deg = np.degrees(angle)\n",
    "print(angle_deg)\n",
    "print(np.round(angle_deg))"
   ]
  },
  {
   "cell_type": "markdown",
   "metadata": {},
   "source": [
    "3. **Create two arrays** and **find the product** of them using the NumPy function **```multiply()```**."
   ]
  },
  {
   "cell_type": "code",
   "execution_count": 7,
   "metadata": {},
   "outputs": [
    {
     "name": "stdout",
     "output_type": "stream",
     "text": [
      "[5 8 9 8 5]\n"
     ]
    }
   ],
   "source": [
    "# insert code here\n",
    "\n",
    "#help(np.multiply)\n",
    "\n",
    "arr1 = np.array([1, 2, 3, 4, 5])\n",
    "arr2 = np.array([5, 4, 3, 2, 1])\n",
    "\n",
    "arr3 = np.multiply(arr1, arr2)\n",
    "print(arr3)"
   ]
  },
  {
   "cell_type": "code",
   "execution_count": null,
   "metadata": {},
   "outputs": [],
   "source": []
  }
 ],
 "metadata": {
  "kernelspec": {
   "display_name": "Python 3 (ipykernel)",
   "language": "python",
   "name": "python3"
  },
  "language_info": {
   "codemirror_mode": {
    "name": "ipython",
    "version": 3
   },
   "file_extension": ".py",
   "mimetype": "text/x-python",
   "name": "python",
   "nbconvert_exporter": "python",
   "pygments_lexer": "ipython3",
   "version": "3.8.10"
  }
 },
 "nbformat": 4,
 "nbformat_minor": 5
}
