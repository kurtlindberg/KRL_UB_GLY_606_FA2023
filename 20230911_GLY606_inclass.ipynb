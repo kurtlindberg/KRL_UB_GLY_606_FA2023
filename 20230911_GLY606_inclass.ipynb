{
 "cells": [
  {
   "cell_type": "code",
   "execution_count": 4,
   "metadata": {},
   "outputs": [
    {
     "name": "stdout",
     "output_type": "stream",
     "text": [
      "The product of var1 and var2 is 855504.0\n",
      "tHiS wiLL Be tHe bEArs YEar\n"
     ]
    }
   ],
   "source": [
    "# GLY 606 In Class Activity 09/11/2023\n",
    "# Author: Kurt R. Lindberg\n",
    "# Last edited: 09/11/2023\n",
    "\n",
    "# Open a notebook file: done\n",
    "\n",
    "# Assign a variable with the value: 2742. (float)\n",
    "var1 = 2742. # assign new variable 'var1' to equal 2742 as a float value\n",
    "\n",
    "# Assign another variable with the value: 312. (float)\n",
    "var2 = 312. # assign new variable 'var2' to equal 312 as a float value\n",
    "\n",
    "# Multiply these variables toghether by each other, and print out the solution\n",
    "print('The product of var1 and var2 is ' + str(var1*var2)) # prints the product of var1 and var2\n",
    "\n",
    "# Pring out a string that says something funny\n",
    "print(\"tHiS wiLL Be tHe bEArs YEar\") # Jordan Love is, in fact, the new owner of the Chicago Bears\n",
    "\n",
    "# Comment your code: done"
   ]
  }
 ],
 "metadata": {
  "kernelspec": {
   "display_name": "Python 3 (ipykernel)",
   "language": "python",
   "name": "python3"
  },
  "language_info": {
   "codemirror_mode": {
    "name": "ipython",
    "version": 3
   },
   "file_extension": ".py",
   "mimetype": "text/x-python",
   "name": "python",
   "nbconvert_exporter": "python",
   "pygments_lexer": "ipython3",
   "version": "3.8.10"
  }
 },
 "nbformat": 4,
 "nbformat_minor": 4
}
