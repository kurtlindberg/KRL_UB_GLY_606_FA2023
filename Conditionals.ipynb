{
 "cells": [
  {
   "cell_type": "markdown",
   "metadata": {},
   "source": [
    "# Conditionals"
   ]
  },
  {
   "cell_type": "markdown",
   "metadata": {},
   "source": [
    "<ins>**Conditionals**</ins> can play an important role in code. It <ins>**_allows the program to execute decisions based off conditions_**</ins> we give it. Here, we will learn about different conditional statements and their purposes."
   ]
  },
  {
   "cell_type": "markdown",
   "metadata": {},
   "source": [
    "<img src= \"https://pbs.twimg.com/media/EDbW0dNXsAAwRlA.jpg\" width = '400'>"
   ]
  },
  {
   "cell_type": "markdown",
   "metadata": {},
   "source": [
    "By the end of this section, you will learn:\n",
    "* [**about logical conditionals**](#Logical-conditionals)\n",
    "* [**about conditional statements and when to use them**](#Conditional-statements)\n",
    "* [**to group conditionals**](#Grouping-conditionals)"
   ]
  },
  {
   "cell_type": "markdown",
   "metadata": {},
   "source": [
    "## Booleans"
   ]
  },
  {
   "cell_type": "markdown",
   "metadata": {},
   "source": [
    "**Booleans** are a data structure which are typically the <ins>**result of conditionals**</ins>, but can exist on their own. **Booleans** are **```true``` (1)** or **```false``` (0)**."
   ]
  },
  {
   "cell_type": "markdown",
   "metadata": {},
   "source": [
    "## Logical conditionals"
   ]
  },
  {
   "cell_type": "markdown",
   "metadata": {},
   "source": [
    "Typically called logicals (because their results are fairly logical), **logical conditionals** stem from mathematics. They are the following:\n",
    "\n",
    "|Symbol|Description|\n",
    "|-|-:|\n",
    "|<|less than|  \n",
    "|>|greater than|\n",
    "|==|equal to|\n",
    "|!=|not equal to| \n",
    "|>=|greater than or equal to| \n",
    "|<=|less than or equal to|\n",
    "   \n",
    " We can test this out and see their outputs:"
   ]
  },
  {
   "cell_type": "code",
   "execution_count": null,
   "metadata": {
    "scrolled": true
   },
   "outputs": [],
   "source": [
    "1 > 2"
   ]
  },
  {
   "cell_type": "code",
   "execution_count": null,
   "metadata": {},
   "outputs": [],
   "source": [
    "1 < 2"
   ]
  },
  {
   "cell_type": "code",
   "execution_count": null,
   "metadata": {
    "scrolled": true
   },
   "outputs": [],
   "source": [
    "1 == 2"
   ]
  },
  {
   "cell_type": "code",
   "execution_count": null,
   "metadata": {},
   "outputs": [],
   "source": [
    "1 != 2"
   ]
  },
  {
   "cell_type": "code",
   "execution_count": null,
   "metadata": {},
   "outputs": [],
   "source": [
    "1 >= 2"
   ]
  },
  {
   "cell_type": "code",
   "execution_count": null,
   "metadata": {},
   "outputs": [],
   "source": [
    "1 <= 2"
   ]
  },
  {
   "cell_type": "markdown",
   "metadata": {},
   "source": [
    "## Conditional statements"
   ]
  },
  {
   "cell_type": "markdown",
   "metadata": {},
   "source": [
    "### ```if``` Statement"
   ]
  },
  {
   "cell_type": "markdown",
   "metadata": {},
   "source": [
    "When using an **```if```** statement, the <ins>**conditional must be valid**</ins> for the code within to run. It follows this basic format:\n",
    "```python\n",
    "if conditional:\n",
    "    \"\"\"do this code\"\"\"\n",
    "```\n",
    "If the conditional is **<ins>True</ins>**, then the program **<ins>will run the code</ins>**. An example is:"
   ]
  },
  {
   "cell_type": "code",
   "execution_count": null,
   "metadata": {},
   "outputs": [],
   "source": [
    "# define two variables\n",
    "var0 = 2\n",
    "var1 = 1\n",
    "\n",
    "if var0 < var1:\n",
    "    print('hey')"
   ]
  },
  {
   "cell_type": "markdown",
   "metadata": {},
   "source": [
    "Notice there is no output since the conditional is false."
   ]
  },
  {
   "cell_type": "markdown",
   "metadata": {},
   "source": [
    "### ```if-else``` Statement"
   ]
  },
  {
   "cell_type": "markdown",
   "metadata": {},
   "source": [
    "Similiar to an **```if```** statement, an **```if-else```** statement will <ins>**run the code after the conditional if the conditional is valid**</ins>. If the conditional is <ins>**not valid**</ins>, it will <ins>**run a separate code**</ins> following the **```else```** . It follows this basic format:\n",
    "```python\n",
    "if conditional:\n",
    "    \"\"\"do this code\"\"\"\n",
    "else:\n",
    "    \"\"\"do this other code\"\"\"\n",
    "```\n",
    "\n",
    "An example is:"
   ]
  },
  {
   "cell_type": "code",
   "execution_count": null,
   "metadata": {},
   "outputs": [],
   "source": [
    "# define two variables\n",
    "var0 = 2\n",
    "var1 = 1\n",
    "\n",
    "if var0<=var1:\n",
    "    print('its on')\n",
    "else:\n",
    "    print('its off')"
   ]
  },
  {
   "cell_type": "markdown",
   "metadata": {},
   "source": [
    "### ```if-elif-else``` Statement"
   ]
  },
  {
   "cell_type": "markdown",
   "metadata": {},
   "source": [
    "Almost a combination of the previously mentioned statements, the **```if-elif-else```** statement follows this logic: \n",
    "\n",
    "* if the first conditional is valid, do the code after **```if```**\n",
    "\n",
    "\n",
    "* if it is not valid, but the conditional following the **```elif```** is valid, do other code following that \n",
    "\n",
    "\n",
    "* if both condiitonals are not valid, then finally do the code following the **```else```**"
   ]
  },
  {
   "cell_type": "markdown",
   "metadata": {},
   "source": [
    "It follows this basic format:\n",
    "\n",
    "```python\n",
    "if conditional:\n",
    "    \"\"\"do this code\"\"\"\n",
    "elif conditional:\n",
    "    \"\"\"do this different code\"\"\"\n",
    "else:\n",
    "    \"\"\"do this other code\"\"\"\n",
    "```\n",
    "\n",
    "An example is:"
   ]
  },
  {
   "cell_type": "code",
   "execution_count": null,
   "metadata": {},
   "outputs": [],
   "source": [
    "# define two variables\n",
    "var0 = 2\n",
    "var1 = 1\n",
    "\n",
    "if var0<var1:\n",
    "    print('its on')\n",
    "elif var0 == var1:\n",
    "    print('it is what it is')\n",
    "else:\n",
    "    print('its off')"
   ]
  },
  {
   "cell_type": "markdown",
   "metadata": {},
   "source": [
    "## Grouping conditionals"
   ]
  },
  {
   "cell_type": "markdown",
   "metadata": {},
   "source": [
    "### ```and```"
   ]
  },
  {
   "cell_type": "markdown",
   "metadata": {},
   "source": [
    "If you have <ins>**multiple condtionals**</ins>, and want <ins>**all of them met**</ins>, we can group the conditionals using an **```and```** .\n",
    "\n",
    "e.g. ```var0 > 1 and var0 < 35``` will only be ```True``` if ```var0``` is between 1 and 35.\n",
    "\n",
    "Run the code below to see an example:"
   ]
  },
  {
   "cell_type": "code",
   "execution_count": null,
   "metadata": {},
   "outputs": [],
   "source": [
    "# define two variables\n",
    "var0 = 2\n",
    "var1 = 1\n",
    "\n",
    "if var0 > var1 and var1 == 1 :\n",
    "    print('hey')"
   ]
  },
  {
   "cell_type": "markdown",
   "metadata": {},
   "source": [
    "### ```or```"
   ]
  },
  {
   "cell_type": "markdown",
   "metadata": {},
   "source": [
    "If you have <ins>**multiple conditionals, any of which would satisfy your requirements**</ins>, we can use an **```or```** .\n",
    "\n",
    "e.g. ```var0 > 1 or var1 == 35``` will be ```True``` if var0 is greater than one **OR** if it equals 3. So <ins>**only one conditional needs to be valid**</ins> to make the whole statement valid.\n",
    "\n",
    "Run the code below to see an example:"
   ]
  },
  {
   "cell_type": "code",
   "execution_count": null,
   "metadata": {},
   "outputs": [],
   "source": [
    "# define two variables\n",
    "var0 = 2\n",
    "var1 = 1\n",
    "\n",
    "if var0 < var1 or var1 < 35 :\n",
    "    print('hey')"
   ]
  },
  {
   "cell_type": "markdown",
   "metadata": {},
   "source": [
    "## Summary"
   ]
  },
  {
   "cell_type": "markdown",
   "metadata": {},
   "source": [
    "* **[Booleans](#Booleans)** are typically the result of conditional statements: ```true```(1) or ```false```(0)\n",
    "\n",
    "\n",
    "* **[Logical conditionals](#Logical-Conditionals)** are less than(<), greater than (>), equal to (==), etc.\n",
    "\n",
    "\n",
    "* **[Conditional statements](#Conditional-Statements)** are\n",
    "    * ```if``` statements, which will run code if the contional is true\n",
    "    * ```if-else``` statements, which will run the code if the conditional is true and run a different code if the conditional is false\n",
    "    * ```if-elif-else``` statements, which are a combination of ```if``` and ```if-else``` statements but there is a second conditional added\n",
    "\n",
    "\n",
    "* If you have **[multiple condtionals](#Grouping-Conditionals)** to satisfy, you can group them using\n",
    "    * ```and```, if you need to satisfy *all* of them\n",
    "    * ```or```, if youneed to satisfy *some* of them"
   ]
  },
  {
   "cell_type": "markdown",
   "metadata": {},
   "source": [
    "## Exercise"
   ]
  },
  {
   "cell_type": "markdown",
   "metadata": {},
   "source": [
    "Complete the following exercises."
   ]
  },
  {
   "cell_type": "markdown",
   "metadata": {},
   "source": [
    "1. **Create an ```if``` statement** for the following sentence: <ins>if 10 is greater than 2, print \"conditionals are cool\"</ins> .\n",
    "Be sure to create two variables that contain 10 and 2."
   ]
  },
  {
   "cell_type": "code",
   "execution_count": 1,
   "metadata": {},
   "outputs": [
    {
     "name": "stdout",
     "output_type": "stream",
     "text": [
      "conditionals are cool\n"
     ]
    }
   ],
   "source": [
    "# insert code here\n",
    "\n",
    "var1 = 10\n",
    "var2 = 2\n",
    "\n",
    "if var1 > var2:\n",
    "    print(\"conditionals are cool\")"
   ]
  },
  {
   "cell_type": "markdown",
   "metadata": {},
   "source": [
    "2. **Create an ```if-else``` statement** for the following sentence: <ins>if 200 is greater than or equal to 1000, print \"i love python\"; if not, then print \"go bills!\"</ins> . Be sure to create your variables."
   ]
  },
  {
   "cell_type": "code",
   "execution_count": 2,
   "metadata": {},
   "outputs": [
    {
     "name": "stdout",
     "output_type": "stream",
     "text": [
      "go bills!\n"
     ]
    }
   ],
   "source": [
    "# insert code here\n",
    "\n",
    "var1 = 200\n",
    "var2 = 1000\n",
    "\n",
    "if var1 >= var2:\n",
    "    print(\"i love python\")\n",
    "else:\n",
    "    print(\"go bills!\")"
   ]
  },
  {
   "cell_type": "markdown",
   "metadata": {},
   "source": [
    "3. **Create an ```if-elif-else``` statement** for the following sentence: <ins>if 1 is less than or equal to 0, print \"it's a good day\"; if not but 1 is less than 2, print \"it's a great day\"; if none work, print \"it's a bad day\"</ins> . Be sure to create your variables."
   ]
  },
  {
   "cell_type": "code",
   "execution_count": 3,
   "metadata": {},
   "outputs": [
    {
     "name": "stdout",
     "output_type": "stream",
     "text": [
      "it's a great day\n"
     ]
    }
   ],
   "source": [
    "# insert code here\n",
    "\n",
    "var1 = 1\n",
    "var2 = 0\n",
    "var3 = 2\n",
    "\n",
    "if var1 <= var2:\n",
    "    print(\"it's a good day\")\n",
    "elif var1 < var3:\n",
    "    print(\"it's a great day\")\n",
    "else:\n",
    "    print(\"it's a bad day\")"
   ]
  },
  {
   "cell_type": "markdown",
   "metadata": {},
   "source": [
    "4. **Alter your code** for one of the first three exercises by adding an **```and```** or an **```or```** . Add a conditional of your choice."
   ]
  },
  {
   "cell_type": "code",
   "execution_count": 4,
   "metadata": {},
   "outputs": [
    {
     "name": "stdout",
     "output_type": "stream",
     "text": [
      "GO PACK GO\n"
     ]
    }
   ],
   "source": [
    "# insert code here\n",
    "\n",
    "var1 = 200\n",
    "var2 = 1000\n",
    "\n",
    "if var1 >= var2:\n",
    "    print(\"i love python\")\n",
    "elif var1 <= 0:\n",
    "    print(\"go bills!\")\n",
    "else:\n",
    "    print(\"GO PACK GO\")\n"
   ]
  },
  {
   "cell_type": "code",
   "execution_count": null,
   "metadata": {},
   "outputs": [],
   "source": []
  }
 ],
 "metadata": {
  "kernelspec": {
   "display_name": "Python 3 (ipykernel)",
   "language": "python",
   "name": "python3"
  },
  "language_info": {
   "codemirror_mode": {
    "name": "ipython",
    "version": 3
   },
   "file_extension": ".py",
   "mimetype": "text/x-python",
   "name": "python",
   "nbconvert_exporter": "python",
   "pygments_lexer": "ipython3",
   "version": "3.8.10"
  }
 },
 "nbformat": 4,
 "nbformat_minor": 5
}
