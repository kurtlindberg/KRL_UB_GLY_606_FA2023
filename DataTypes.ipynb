{
 "cells": [
  {
   "cell_type": "markdown",
   "metadata": {},
   "source": [
    "# Data Types"
   ]
  },
  {
   "cell_type": "markdown",
   "metadata": {},
   "source": [
    "When building code, we'll need \"**_containers_**\" that will store our information. These containers are known as <ins>**variables and data structures**</ins>. Each data type has its own purpose, as we'll see below."
   ]
  },
  {
   "cell_type": "markdown",
   "metadata": {},
   "source": [
    "<img src = \"https://img.devrant.com/devrant/rant/r_1475844_Qk9zT.jpg\" width=\"400\">"
   ]
  },
  {
   "cell_type": "markdown",
   "metadata": {},
   "source": [
    "By the end, you will:\n",
    "* be introduced to **different variables**: **[integers](#Integers), [floats](#Floats), [strings](#Strings)**\n",
    "* be introduced to **different data structures**: **[lists](#Lists), [arrays](#Arrays)**\n",
    "* know the **difference between the data types**"
   ]
  },
  {
   "cell_type": "markdown",
   "metadata": {},
   "source": [
    "## Variables"
   ]
  },
  {
   "cell_type": "markdown",
   "metadata": {},
   "source": [
    "**Variables** are <ins>**_where_**</ins> we store data in code. It helps <ins>**keep our code organized**</ins> and <ins>**reduce mistakes**</ins>. Unlike other languages (e.g. JavaScript), we **do not need to declare variables** in Python. Here, we'll see these different variable types :\n",
    "* [integers](#Integers)\n",
    "* [floats](#Floats)\n",
    "* [strings](#Strings)"
   ]
  },
  {
   "cell_type": "markdown",
   "metadata": {},
   "source": [
    "### Integers"
   ]
  },
  {
   "cell_type": "markdown",
   "metadata": {},
   "source": [
    "**Integers** are exactly what they sounds like: they store <ins>**_only integral values_**</ins> (i.e., whole numbers). An example is ```1``` or ```100```.\n",
    "\n",
    "Here is a demo of adding two integers:"
   ]
  },
  {
   "cell_type": "code",
   "execution_count": null,
   "metadata": {},
   "outputs": [],
   "source": [
    "a = 2\n",
    "b = 4\n",
    "c = a + b\n",
    "print(c)"
   ]
  },
  {
   "cell_type": "markdown",
   "metadata": {},
   "source": [
    "### Floats"
   ]
  },
  {
   "cell_type": "markdown",
   "metadata": {},
   "source": [
    "Though similiar to integers, **floats** are slightly different: they store values that have potential <ins>**_decimal points_**</ins>. An example is ```1.0``` or ```100.00```.\n",
    "\n",
    "Here is a demo of adding two floats:"
   ]
  },
  {
   "cell_type": "code",
   "execution_count": null,
   "metadata": {},
   "outputs": [],
   "source": [
    "a = 2.0\n",
    "b = 4.0\n",
    "c = a + b\n",
    "print(c)"
   ]
  },
  {
   "cell_type": "markdown",
   "metadata": {},
   "source": [
    "### Strings"
   ]
  },
  {
   "cell_type": "markdown",
   "metadata": {},
   "source": [
    "**Strings** are <ins>**_groups of characters_**</ins> that is defined by quotation marks **```''```** **```\"\"```**. Although they can be manipulated using math functions (addition, multiplication), **strings** are not treated as numbers. An example is:"
   ]
  },
  {
   "cell_type": "code",
   "execution_count": null,
   "metadata": {},
   "outputs": [],
   "source": [
    "names = 'Liza, Hayley, Katie'\n",
    "print(names)"
   ]
  },
  {
   "cell_type": "markdown",
   "metadata": {},
   "source": [
    "## Data Structures"
   ]
  },
  {
   "cell_type": "markdown",
   "metadata": {},
   "source": [
    "### Lists"
   ]
  },
  {
   "cell_type": "markdown",
   "metadata": {},
   "source": [
    "**Lists** are defined by square brackets **```[]```**, are one-dimensional (**1D**), and can store <ins>**_various data types (e.g., numbers, words)_**</ins>."
   ]
  },
  {
   "cell_type": "code",
   "execution_count": null,
   "metadata": {},
   "outputs": [],
   "source": [
    "mylist = ['hello', 123, 'bye', 456 ]\n",
    "print(mylist)"
   ]
  },
  {
   "cell_type": "markdown",
   "metadata": {},
   "source": [
    "### Arrays"
   ]
  },
  {
   "cell_type": "markdown",
   "metadata": {},
   "source": [
    "**Arrays** are also defined by square brackets **```[]```**, but they can <ins>**_only store one data type_**</ins>. They can be *multidimensional*, but we'll see that [later on](MultiDarrays.ipynb). For now, we will create one-dimensional arrays.\n",
    "\n",
    "**Arrays** are defined by through [NumPy](Introduction2Functions.ipynb), which is a numerical library widely used in Python. To make an array, you must first <ins>**_import NumPy_**</ins> and then <ins>**_use the ```array()``` function_**</ins>."
   ]
  },
  {
   "cell_type": "code",
   "execution_count": null,
   "metadata": {},
   "outputs": [],
   "source": [
    "import numpy as np # you can import NumPy as a shorter name (ex: np)\n",
    "\n",
    "numbers = np.array([1, 2, 3, 4, 5])\n",
    "print(numbers)"
   ]
  },
  {
   "cell_type": "markdown",
   "metadata": {},
   "source": [
    "### Manipulating lists and arrays"
   ]
  },
  {
   "cell_type": "markdown",
   "metadata": {},
   "source": [
    "Both lists and arrays can be manipulated by **mathematical operators** (though lists can <ins>*only*</ins> be manipulated by addition and multiplication). See the examples below:"
   ]
  },
  {
   "cell_type": "code",
   "execution_count": null,
   "metadata": {},
   "outputs": [],
   "source": [
    "# here we create two lists\n",
    "mylist = ['hello', 123, 'bye', 456 ]\n",
    "yourlist = ['ciao', 789, 'ciao', 10 ]\n",
    "\n",
    "# now we add both lists and print the result\n",
    "ourlist = mylist + yourlist\n",
    "print(ourlist)"
   ]
  },
  {
   "cell_type": "code",
   "execution_count": null,
   "metadata": {
    "scrolled": true
   },
   "outputs": [],
   "source": [
    "# first we have to import numPy to create an array\n",
    "import numpy as np\n",
    "\n",
    "# now we create two arrays\n",
    "price = np.array([13, 20, 33, 56])\n",
    "amount = np.array([2, 5, 3, 7])\n",
    "\n",
    "# then we can multiply them and print the result\n",
    "total = price * amount\n",
    "print(total)"
   ]
  },
  {
   "cell_type": "markdown",
   "metadata": {},
   "source": [
    "Notice that the it does not return **_one total_**. It will return an **array of the same size of the previous arrays**. <ins>**_To manipulate arrays with mathematical expressions, they must be of the same size._**</ins> Lists can be any size to be manipulated."
   ]
  },
  {
   "cell_type": "markdown",
   "metadata": {},
   "source": [
    "## Summary"
   ]
  },
  {
   "cell_type": "markdown",
   "metadata": {},
   "source": [
    "* Three **[variables](#Variables)** reviewed here are:\n",
    "\n",
    "    * **integers**, which store **<ins>whole numbers</ins>**\n",
    "    \n",
    "    * **floats**, which store values with **<ins>decimals</ins>**\n",
    "    \n",
    "    * **strings**, which store **<ins>groups of characters</ins>**\n",
    "\n",
    "\n",
    "\n",
    "\n",
    "\n",
    "\n",
    "* Two **[data structures](#Data-Structures)** reviewed here are:\n",
    "\n",
    "    * **lists**, which store **<ins>various data types</ins>**\n",
    "    \n",
    "    * **arrays**, which store **<ins>one data type</ins>** and are defined using numPy"
   ]
  },
  {
   "cell_type": "markdown",
   "metadata": {},
   "source": [
    "## Exercises"
   ]
  },
  {
   "cell_type": "markdown",
   "metadata": {},
   "source": [
    "1. You are given **_three variables_**: **```cost```** which stores a <ins>monthly payment</ins>, **```time```** which stores the <ins>total time in months</ins> that the payment needs to be made, and **```msrp```** which stores the <ins>manufacturer's suggested retail price</ins>. **Find the product** of both **```cost```** and **```time```** then **find the difference** between **```msrp```** and the **product**. Print out the product and difference."
   ]
  },
  {
   "cell_type": "code",
   "execution_count": 10,
   "metadata": {},
   "outputs": [
    {
     "name": "stdout",
     "output_type": "stream",
     "text": [
      "The product of cost and time is 29880.\n",
      "The difference between msrp and the product is -4880.\n"
     ]
    }
   ],
   "source": [
    "# Given variables\n",
    "#monthly_payment = 415 # unit: USD\n",
    "cost = 415 # unit: USD\n",
    "time = 72 # unit: months\n",
    "msrp = 25000 # unit: USD\n",
    "\n",
    "product = cost*time\n",
    "print('The product of cost and time is ' + str(product) + '.')\n",
    "\n",
    "difference = msrp-product\n",
    "print('The difference between msrp and the product is ' + str(difference) + '.') \n"
   ]
  },
  {
   "cell_type": "markdown",
   "metadata": {},
   "source": [
    "2. **Make two strings** named **```fruit```** and **```other```** which contain <ins>items from the grocery store</ins>. **Add both** strings together and call it **```final_list```**. Print **```final_list```**."
   ]
  },
  {
   "cell_type": "code",
   "execution_count": 11,
   "metadata": {},
   "outputs": [
    {
     "name": "stdout",
     "output_type": "stream",
     "text": [
      "['mango', 'limes', 'red bell pepper', 'jalapeno', 'olive oil', 'cumin', 'salt']\n"
     ]
    }
   ],
   "source": [
    "# insert code here\n",
    "fruit = ['mango', 'limes'] # these items are fruits found at the grocery store\n",
    "other = ['red bell pepper', 'jalapeno', 'olive oil', 'cumin', 'salt'] # these items are not fruits, but are also found at the grocery store\n",
    "\n",
    "final_list = fruit + other \n",
    "print(final_list) # this is the recipe for a delicous mango salsa :)"
   ]
  },
  {
   "cell_type": "markdown",
   "metadata": {},
   "source": [
    "3. **Import [NumPy](#Arrays) and create two arrays.** Name them **```a```** and **```b```**. **Find the product** of both and **divide it by 2**. Store this new array in a variable **```c```**. Print **```c```**."
   ]
  },
  {
   "cell_type": "code",
   "execution_count": 12,
   "metadata": {},
   "outputs": [
    {
     "name": "stdout",
     "output_type": "stream",
     "text": [
      "[  3.  18. 108.]\n"
     ]
    }
   ],
   "source": [
    "# insert code here\n",
    "import numpy as np\n",
    "\n",
    "a = np.array([2, 4, 8]) # array 'a' are the powers of 2^n where n = [1, 2, 3]\n",
    "b = np.array([3, 9, 27]) # array 'a' are the powers of 3^n where n = [1, 2, 3]\n",
    "\n",
    "c = (a*b)/2 # array 'c' is the product of arrays a and b divided by 2\n",
    "print(c)"
   ]
  },
  {
   "cell_type": "code",
   "execution_count": null,
   "metadata": {},
   "outputs": [],
   "source": []
  }
 ],
 "metadata": {
  "kernelspec": {
   "display_name": "Python 3 (ipykernel)",
   "language": "python",
   "name": "python3"
  },
  "language_info": {
   "codemirror_mode": {
    "name": "ipython",
    "version": 3
   },
   "file_extension": ".py",
   "mimetype": "text/x-python",
   "name": "python",
   "nbconvert_exporter": "python",
   "pygments_lexer": "ipython3",
   "version": "3.8.10"
  }
 },
 "nbformat": 4,
 "nbformat_minor": 5
}
