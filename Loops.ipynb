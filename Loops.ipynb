{
 "cells": [
  {
   "cell_type": "markdown",
   "metadata": {},
   "source": [
    "# Loops"
   ]
  },
  {
   "cell_type": "markdown",
   "metadata": {},
   "source": [
    "There are times where you will need to <ins>**_apply a code multiple times or access all elements of a list or an array_**</ins>. Instead of copying and pasting many times, we can use <ins>**loops**</ins>."
   ]
  },
  {
   "cell_type": "markdown",
   "metadata": {},
   "source": [
    "<img src=\"https://timmousk.com/wp-content/uploads/2022/03/2-6.jpg\">"
   ]
  },
  {
   "cell_type": "markdown",
   "metadata": {},
   "source": [
    "By the end of this section you will learn:\n",
    "* [**to explore the individual elements of lists and arrays**](#Indexing)\n",
    "* [**about ```for``` and ```while``` loops**](#Types-of-Loops)"
   ]
  },
  {
   "cell_type": "markdown",
   "metadata": {},
   "source": [
    "## Indexing"
   ]
  },
  {
   "cell_type": "markdown",
   "metadata": {},
   "source": [
    "**Indexing** helps <ins>**explore an individual element or elements**</ins> in lists and arrays. Within lists and arrays the <ins>**first element is indexed as 0, then the next element is 1, and so on**</ins>."
   ]
  },
  {
   "cell_type": "markdown",
   "metadata": {},
   "source": [
    "<img src = \"https://scaler.com/topics/images/Python-list-index-1-1024x498.jpeg\" >"
   ]
  },
  {
   "cell_type": "markdown",
   "metadata": {},
   "source": [
    "To return an element of a list or array, we can type:\n",
    "\n",
    "**``` list[n] ```**\n",
    "\n",
    "where **```n```** is the index of the element. An example of returning the third element of a list is:"
   ]
  },
  {
   "cell_type": "code",
   "execution_count": 6,
   "metadata": {
    "scrolled": true
   },
   "outputs": [
    {
     "name": "stdout",
     "output_type": "stream",
     "text": [
      "c\n"
     ]
    }
   ],
   "source": [
    "list = ['a','b','c','d']\n",
    "print(list[2])"
   ]
  },
  {
   "cell_type": "markdown",
   "metadata": {},
   "source": [
    "The last element can also be indexed as -1, which will result in a decreasing order. The second to last will be -2, and so on."
   ]
  },
  {
   "cell_type": "code",
   "execution_count": 9,
   "metadata": {},
   "outputs": [
    {
     "name": "stdout",
     "output_type": "stream",
     "text": [
      "b\n"
     ]
    }
   ],
   "source": [
    "list = ['a','b','c','d']\n",
    "print(list[-3])"
   ]
  },
  {
   "cell_type": "markdown",
   "metadata": {},
   "source": [
    "Let's say we wanted to return every other element of our list or array. We could do so by using a semi-colon **```:```**."
   ]
  },
  {
   "cell_type": "code",
   "execution_count": 11,
   "metadata": {},
   "outputs": [
    {
     "name": "stdout",
     "output_type": "stream",
     "text": [
      "[1 3 5 7]\n",
      "[2 4 6 8]\n"
     ]
    }
   ],
   "source": [
    "import numpy as np\n",
    "array = np.array([1, 2, 3, 4, 5, 6, 7, 8])\n",
    "odds = array[::2] # this 2 means it will print out every other element, the first semi-colon signifies starting at the first index\n",
    "print(odds)\n",
    "\n",
    "evens = array[1::2] # this means we will print out every other element starting at the second index\n",
    "print(evens)"
   ]
  },
  {
   "cell_type": "markdown",
   "metadata": {},
   "source": [
    "We can also find at what index a certain element occurs at. Here we have a list and use the **```index()```** built-in python function to find at which index '3' occurs at."
   ]
  },
  {
   "cell_type": "code",
   "execution_count": 14,
   "metadata": {},
   "outputs": [
    {
     "name": "stdout",
     "output_type": "stream",
     "text": [
      "2\n"
     ]
    }
   ],
   "source": [
    "list = [1, 2, 3, 4, 5, 6, 7, 8]\n",
    "result = list.index(3)\n",
    "print(result)"
   ]
  },
  {
   "cell_type": "markdown",
   "metadata": {},
   "source": [
    "## Types of Loops"
   ]
  },
  {
   "cell_type": "markdown",
   "metadata": {},
   "source": [
    "### ```for``` loops"
   ]
  },
  {
   "cell_type": "markdown",
   "metadata": {},
   "source": [
    "One type of loop is **```for```** loops which are also known as <ins>**\"definite loops.\"**</ins> These loops allow you to <ins>**apply code to all elements or a set of indices with a defined termination**</ins> set by the user. It follows this basic format:"
   ]
  },
  {
   "cell_type": "markdown",
   "metadata": {},
   "source": [
    "```python\n",
    "for item in group :\n",
    "    do this thing to the current item\n",
    "    when done with items, run the rest of the code\n",
    "```"
   ]
  },
  {
   "cell_type": "markdown",
   "metadata": {},
   "source": [
    "An example is:"
   ]
  },
  {
   "cell_type": "code",
   "execution_count": 1,
   "metadata": {},
   "outputs": [
    {
     "name": "stdout",
     "output_type": "stream",
     "text": [
      "34\n",
      "17\n",
      "12\n"
     ]
    }
   ],
   "source": [
    "# Here we are telling the for loop to print each item in the group\n",
    "for item in [34, 17, 12]:\n",
    "    print(item)"
   ]
  },
  {
   "cell_type": "markdown",
   "metadata": {},
   "source": [
    "We can also use **```for``` loops** to <ins>**return certain indices**</ins> within a list or array."
   ]
  },
  {
   "cell_type": "code",
   "execution_count": 5,
   "metadata": {},
   "outputs": [
    {
     "name": "stdout",
     "output_type": "stream",
     "text": [
      "2\n",
      "6\n",
      "finished!!\n"
     ]
    }
   ],
   "source": [
    "import numpy as np\n",
    "items = np.array([2, 4, 6, 8])\n",
    "\n",
    "for i in [0,2]:\n",
    "    print(items[i])\n",
    "print(\"finished!!\") # print that we have finished our loop!"
   ]
  },
  {
   "cell_type": "markdown",
   "metadata": {},
   "source": [
    "### ```while``` loops"
   ]
  },
  {
   "cell_type": "markdown",
   "metadata": {},
   "source": [
    "A **```while```** loop <ins>**applies code to elements until a condition is not met**</ins>. Once the condition is not met, it will continue on to the rest of the code. **```while```** loops are also known as <ins>**\"indefinite loops.\"**</ins> It follows this basic format:"
   ]
  },
  {
   "cell_type": "markdown",
   "metadata": {},
   "source": [
    "```python\n",
    "while some condition :\n",
    "    do something, if the condition is met\n",
    "    when the condition is no longer met, do rest of code\n",
    "```"
   ]
  },
  {
   "cell_type": "markdown",
   "metadata": {},
   "source": [
    "**```while```** loops are great if you have a certain condiiton to meet for a group of elements. *However*, you have to make sure to <ins>**avoid an infinite loop**</ins>. An example of avoiding an infinite loop is:"
   ]
  },
  {
   "cell_type": "code",
   "execution_count": 8,
   "metadata": {
    "scrolled": true
   },
   "outputs": [
    {
     "name": "stdout",
     "output_type": "stream",
     "text": [
      "1\n",
      "2\n",
      "3\n",
      "4\n",
      "5\n",
      "6\n",
      "finished!!\n"
     ]
    }
   ],
   "source": [
    "flag = 1\n",
    "\n",
    "# the below while loop will continue as long as flag has a value less than 7\n",
    "while flag < 7:\n",
    "    print(flag) # here, we are printing our current flag value\n",
    "    flag = flag + 1 # now, we are increasing the value of flag to avoid an infinite loop\n",
    "print(\"finished!!\")"
   ]
  },
  {
   "cell_type": "markdown",
   "metadata": {},
   "source": [
    "## Summary"
   ]
  },
  {
   "cell_type": "markdown",
   "metadata": {},
   "source": [
    "* **[Loops](#Loops)** are used to\n",
    "    * access **_all_** elements of lists and arrays\n",
    "    * apply blocks of codes **multiple times**\n",
    "\n",
    "\n",
    "* **[Indexing](#Indexing)** allows you to access **individual** elements of lists and arrays\n",
    "\n",
    "\n",
    "* **[```for```](#for-loops)** loops are **definite loops**, which have an ending determined by the user\n",
    "\n",
    "\n",
    "* **[```while```](#while-loops)** loops are **indefinite loops**, which end once a condition is no longer met"
   ]
  },
  {
   "cell_type": "markdown",
   "metadata": {},
   "source": [
    "## Exercises"
   ]
  },
  {
   "cell_type": "markdown",
   "metadata": {},
   "source": [
    "1. **Return the last four values** of the array ```co2```."
   ]
  },
  {
   "cell_type": "code",
   "execution_count": 1,
   "metadata": {},
   "outputs": [
    {
     "name": "stdout",
     "output_type": "stream",
     "text": [
      "[1.2 3.8 9.8 0.7]\n"
     ]
    }
   ],
   "source": [
    "import numpy as np\n",
    "co2 = np.array([2.4, 4.3, 5.9, 1.2, 3.8, 9.8, 0.7])\n",
    "\n",
    "print(co2[-4:])"
   ]
  },
  {
   "cell_type": "markdown",
   "metadata": {},
   "source": [
    "2. **Create a ```for loop```** which adds 1 to the first and fourth index of the array ```h2o```."
   ]
  },
  {
   "cell_type": "code",
   "execution_count": 2,
   "metadata": {},
   "outputs": [
    {
     "name": "stdout",
     "output_type": "stream",
     "text": [
      "[ 7.8 22.8  3.9  1.5  7.8 11.4 17.2]\n"
     ]
    }
   ],
   "source": [
    "import numpy as np\n",
    "h2o = np.array([7.8, 21.8, 3.9, 1.5, 6.8, 11.4, 17.2])\n",
    "\n",
    "for i in np.array([1, 4]):\n",
    "    h2o[i] += 1\n",
    "    \n",
    "print(h2o)"
   ]
  },
  {
   "cell_type": "markdown",
   "metadata": {},
   "source": [
    "3. **Create a ```while``` loop** which returns a value less than 5 from the array ```items``` divided by 2, and prints \"finished!!\" when done."
   ]
  },
  {
   "cell_type": "code",
   "execution_count": 3,
   "metadata": {},
   "outputs": [
    {
     "name": "stdout",
     "output_type": "stream",
     "text": [
      "1.0\n",
      "0.5\n",
      "2.0\n",
      "3.5\n",
      "4.0\n",
      "finished!!\n"
     ]
    }
   ],
   "source": [
    "import numpy as np\n",
    "items = np.array([2, 1, 4, 7, 8])\n",
    "n = 0\n",
    "\n",
    "while n < 5:\n",
    "    print(items[n]/2)\n",
    "    n += 1\n",
    "    \n",
    "print(\"finished!!\")"
   ]
  },
  {
   "cell_type": "code",
   "execution_count": null,
   "metadata": {},
   "outputs": [],
   "source": []
  }
 ],
 "metadata": {
  "kernelspec": {
   "display_name": "Python 3 (ipykernel)",
   "language": "python",
   "name": "python3"
  },
  "language_info": {
   "codemirror_mode": {
    "name": "ipython",
    "version": 3
   },
   "file_extension": ".py",
   "mimetype": "text/x-python",
   "name": "python",
   "nbconvert_exporter": "python",
   "pygments_lexer": "ipython3",
   "version": "3.8.10"
  }
 },
 "nbformat": 4,
 "nbformat_minor": 5
}
